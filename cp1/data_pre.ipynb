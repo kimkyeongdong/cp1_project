{
 "cells": [
  {
   "cell_type": "code",
   "execution_count": 248,
   "metadata": {},
   "outputs": [],
   "source": [
    "import numpy as np\n",
    "import pandas as pd\n",
    "import re\n",
    "\n",
    "from ckonlpy.tag import Twitter"
   ]
  },
  {
   "cell_type": "code",
   "execution_count": 249,
   "metadata": {},
   "outputs": [
    {
     "data": {
      "text/html": [
       "<div>\n",
       "<style scoped>\n",
       "    .dataframe tbody tr th:only-of-type {\n",
       "        vertical-align: middle;\n",
       "    }\n",
       "\n",
       "    .dataframe tbody tr th {\n",
       "        vertical-align: top;\n",
       "    }\n",
       "\n",
       "    .dataframe thead th {\n",
       "        text-align: right;\n",
       "    }\n",
       "</style>\n",
       "<table border=\"1\" class=\"dataframe\">\n",
       "  <thead>\n",
       "    <tr style=\"text-align: right;\">\n",
       "      <th></th>\n",
       "      <th>Date</th>\n",
       "      <th>Title</th>\n",
       "      <th>Content</th>\n",
       "    </tr>\n",
       "  </thead>\n",
       "  <tbody>\n",
       "    <tr>\n",
       "      <th>0</th>\n",
       "      <td>20230106</td>\n",
       "      <td>더본코리아, 설맞이 ‘본가 소갈비찜’ RMR 제품 선봬</td>\n",
       "      <td>[아시아경제 문혜원 기자] 더본코리아는 설 명절을 맞아 온 가족이 즐길 수 있는 ‘...</td>\n",
       "    </tr>\n",
       "    <tr>\n",
       "      <th>1</th>\n",
       "      <td>20230106</td>\n",
       "      <td>30년 만에 최대치...손님은 지갑 닫고 업주는 '울상'</td>\n",
       "      <td>[앵커]\\n지난해 외식물가 상승률이 30년 만에 최대치를 기록하면서 손님은 물론이고...</td>\n",
       "    </tr>\n",
       "    <tr>\n",
       "      <th>2</th>\n",
       "      <td>20230106</td>\n",
       "      <td>“레시피 없는 사찰음식, 집착 내려놓는 수행이죠”</td>\n",
       "      <td>“당신이 먹는 음식이 곧 당신이다.” \\n \\n 독일 철학자 루트비히 포이어바흐가 ...</td>\n",
       "    </tr>\n",
       "    <tr>\n",
       "      <th>3</th>\n",
       "      <td>20230106</td>\n",
       "      <td>임실엔 치~즈 맛있게 쭈~욱</td>\n",
       "      <td>전북에 가면 옛 삼국시대부터 불렸던 ‘그리운 임이 사는 곳 임실(任實)’이 있다. ...</td>\n",
       "    </tr>\n",
       "    <tr>\n",
       "      <th>4</th>\n",
       "      <td>20230106</td>\n",
       "      <td>음식으로 건강과 희망을 선물하는 이경애 외식연구소 대표</td>\n",
       "      <td>이경애 외식연구소 대표. 김형수기자 \\n 50년 가까이 앞치마를 벗을 새 없이 앞만...</td>\n",
       "    </tr>\n",
       "  </tbody>\n",
       "</table>\n",
       "</div>"
      ],
      "text/plain": [
       "       Date                            Title  \\\n",
       "0  20230106   더본코리아, 설맞이 ‘본가 소갈비찜’ RMR 제품 선봬   \n",
       "1  20230106  30년 만에 최대치...손님은 지갑 닫고 업주는 '울상'   \n",
       "2  20230106      “레시피 없는 사찰음식, 집착 내려놓는 수행이죠”   \n",
       "3  20230106                  임실엔 치~즈 맛있게 쭈~욱   \n",
       "4  20230106   음식으로 건강과 희망을 선물하는 이경애 외식연구소 대표   \n",
       "\n",
       "                                             Content  \n",
       "0  [아시아경제 문혜원 기자] 더본코리아는 설 명절을 맞아 온 가족이 즐길 수 있는 ‘...  \n",
       "1  [앵커]\\n지난해 외식물가 상승률이 30년 만에 최대치를 기록하면서 손님은 물론이고...  \n",
       "2  “당신이 먹는 음식이 곧 당신이다.” \\n \\n 독일 철학자 루트비히 포이어바흐가 ...  \n",
       "3  전북에 가면 옛 삼국시대부터 불렸던 ‘그리운 임이 사는 곳 임실(任實)’이 있다. ...  \n",
       "4  이경애 외식연구소 대표. 김형수기자 \\n 50년 가까이 앞치마를 벗을 새 없이 앞만...  "
      ]
     },
     "execution_count": 249,
     "metadata": {},
     "output_type": "execute_result"
    }
   ],
   "source": [
    "df = pd.read_excel('../cp1/NewsResult_20220104-20230106.xlsx', engine='openpyxl')\n",
    "df.head()"
   ]
  },
  {
   "cell_type": "code",
   "execution_count": 250,
   "metadata": {},
   "outputs": [],
   "source": [
    "df_drop=df.drop_duplicates(['Date','Title','Content'], keep='first')"
   ]
  },
  {
   "cell_type": "code",
   "execution_count": 251,
   "metadata": {},
   "outputs": [],
   "source": [
    "df=df_drop.reset_index(drop=True)"
   ]
  },
  {
   "cell_type": "code",
   "execution_count": 252,
   "metadata": {},
   "outputs": [
    {
     "data": {
      "text/plain": [
       "0       [아시아경제 문혜원 기자] 더본코리아는 설 명절을 맞아 온 가족이 즐길 수 있는 ‘...\n",
       "1       [앵커]\\n지난해 외식물가 상승률이 30년 만에 최대치를 기록하면서 손님은 물론이고...\n",
       "2       “당신이 먹는 음식이 곧 당신이다.” \\n \\n 독일 철학자 루트비히 포이어바흐가 ...\n",
       "3       전북에 가면 옛 삼국시대부터 불렸던 ‘그리운 임이 사는 곳 임실(任實)’이 있다. ...\n",
       "4       이경애 외식연구소 대표. 김형수기자 \\n 50년 가까이 앞치마를 벗을 새 없이 앞만...\n",
       "                              ...                        \n",
       "3974    ━ 필리핀, 여행업계 오스카상 '월드 트래블 어워드' 3년 연속 선정 \\n 필리핀이...\n",
       "3975    ◀ 앵커 ▶\\n\\n외국여행 가면 처음에 접하고 생소해하는 식당 문화가 있죠.\\n\\n...\n",
       "3976    집안에는 40여 개의 표창장이 산처럼 쌓여 있다. 표창장의 주인공은 창원에서 '박영...\n",
       "3977    장례식장에서 피자를 주문했는데 음식점 사장이 음식 뿐 아니라 조의금과 애도를 표하는...\n",
       "3978    인터뷰┃유튜버 공삼테이블 이공삼\"하고싶은 일 해야겠단 생각에다양한 경험 후 먹방유튜...\n",
       "Name: Content, Length: 3979, dtype: object"
      ]
     },
     "execution_count": 252,
     "metadata": {},
     "output_type": "execute_result"
    }
   ],
   "source": [
    "word_list=[]\n",
    "word_list=df['Content']\n",
    "word_list=word_list.reset_index(drop=True)\n",
    "word_list"
   ]
  },
  {
   "cell_type": "code",
   "execution_count": 253,
   "metadata": {},
   "outputs": [],
   "source": [
    "def extract_word(text):\n",
    "    hangul = re.compile('[^가-힣]') \n",
    "    result = hangul.sub(' ', text) \n",
    "    return result"
   ]
  },
  {
   "cell_type": "code",
   "execution_count": 254,
   "metadata": {},
   "outputs": [],
   "source": [
    "for i in range(0,len(word_list)):\n",
    "    word_list[i] = extract_word(word_list[i])"
   ]
  },
  {
   "cell_type": "code",
   "execution_count": 255,
   "metadata": {},
   "outputs": [
    {
     "data": {
      "text/plain": [
       "0        아시아경제 문혜원 기자  더본코리아는 설 명절을 맞아 온 가족이 즐길 수 있는  ...\n",
       "1        앵커  지난해 외식물가 상승률이   년 만에 최대치를 기록하면서 손님은 물론이고 ...\n",
       "2        당신이 먹는 음식이 곧 당신이다       독일 철학자 루트비히 포이어바흐가 한 ...\n",
       "3       전북에 가면 옛 삼국시대부터 불렸던  그리운 임이 사는 곳 임실     이 있다  ...\n",
       "4       이경애 외식연구소 대표  김형수기자     년 가까이 앞치마를 벗을 새 없이 앞만 ...\n",
       "                              ...                        \n",
       "3974      필리핀  여행업계 오스카상  월드 트래블 어워드   년 연속 선정   필리핀이 ...\n",
       "3975      앵커    외국여행 가면 처음에 접하고 생소해하는 식당 문화가 있죠   종업원에...\n",
       "3976    집안에는   여 개의 표창장이 산처럼 쌓여 있다  표창장의 주인공은 창원에서  박영...\n",
       "3977    장례식장에서 피자를 주문했는데 음식점 사장이 음식 뿐 아니라 조의금과 애도를 표하는...\n",
       "3978    인터뷰 유튜버 공삼테이블 이공삼 하고싶은 일 해야겠단 생각에다양한 경험 후 먹방유튜...\n",
       "Name: Content, Length: 3979, dtype: object"
      ]
     },
     "execution_count": 255,
     "metadata": {},
     "output_type": "execute_result"
    }
   ],
   "source": [
    "word_list"
   ]
  },
  {
   "cell_type": "code",
   "execution_count": 256,
   "metadata": {},
   "outputs": [
    {
     "data": {
      "text/plain": [
       "0     아시아경제 문혜원 기자  더본코리아는 설 명절을 맞아 온 가족이 즐길 수 있는  ...\n",
       "1     앵커  지난해 외식물가 상승률이   년 만에 최대치를 기록하면서 손님은 물론이고 ...\n",
       "2     당신이 먹는 음식이 곧 당신이다       독일 철학자 루트비히 포이어바흐가 한 ...\n",
       "3    전북에 가면 옛 삼국시대부터 불렸던  그리운 임이 사는 곳 임실     이 있다  ...\n",
       "4    이경애 외식연구소 대표  김형수기자     년 가까이 앞치마를 벗을 새 없이 앞만 ...\n",
       "Name: Content, dtype: object"
      ]
     },
     "execution_count": 256,
     "metadata": {},
     "output_type": "execute_result"
    }
   ],
   "source": [
    "#기사 본문만 가져오기\n",
    "content=word_list\n",
    "content.head()"
   ]
  },
  {
   "cell_type": "code",
   "execution_count": 257,
   "metadata": {},
   "outputs": [],
   "source": [
    "df=pd.DataFrame([content])\n",
    "df= df.transpose()"
   ]
  },
  {
   "cell_type": "code",
   "execution_count": 258,
   "metadata": {},
   "outputs": [
    {
     "data": {
      "text/html": [
       "<div>\n",
       "<style scoped>\n",
       "    .dataframe tbody tr th:only-of-type {\n",
       "        vertical-align: middle;\n",
       "    }\n",
       "\n",
       "    .dataframe tbody tr th {\n",
       "        vertical-align: top;\n",
       "    }\n",
       "\n",
       "    .dataframe thead th {\n",
       "        text-align: right;\n",
       "    }\n",
       "</style>\n",
       "<table border=\"1\" class=\"dataframe\">\n",
       "  <thead>\n",
       "    <tr style=\"text-align: right;\">\n",
       "      <th></th>\n",
       "      <th>Content</th>\n",
       "    </tr>\n",
       "  </thead>\n",
       "  <tbody>\n",
       "    <tr>\n",
       "      <th>0</th>\n",
       "      <td>아시아경제 문혜원 기자  더본코리아는 설 명절을 맞아 온 가족이 즐길 수 있는  ...</td>\n",
       "    </tr>\n",
       "    <tr>\n",
       "      <th>1</th>\n",
       "      <td>앵커  지난해 외식물가 상승률이   년 만에 최대치를 기록하면서 손님은 물론이고 ...</td>\n",
       "    </tr>\n",
       "    <tr>\n",
       "      <th>2</th>\n",
       "      <td>당신이 먹는 음식이 곧 당신이다       독일 철학자 루트비히 포이어바흐가 한 ...</td>\n",
       "    </tr>\n",
       "    <tr>\n",
       "      <th>3</th>\n",
       "      <td>전북에 가면 옛 삼국시대부터 불렸던  그리운 임이 사는 곳 임실     이 있다  ...</td>\n",
       "    </tr>\n",
       "    <tr>\n",
       "      <th>4</th>\n",
       "      <td>이경애 외식연구소 대표  김형수기자     년 가까이 앞치마를 벗을 새 없이 앞만 ...</td>\n",
       "    </tr>\n",
       "    <tr>\n",
       "      <th>...</th>\n",
       "      <td>...</td>\n",
       "    </tr>\n",
       "    <tr>\n",
       "      <th>3974</th>\n",
       "      <td>필리핀  여행업계 오스카상  월드 트래블 어워드   년 연속 선정   필리핀이 ...</td>\n",
       "    </tr>\n",
       "    <tr>\n",
       "      <th>3975</th>\n",
       "      <td>앵커    외국여행 가면 처음에 접하고 생소해하는 식당 문화가 있죠   종업원에...</td>\n",
       "    </tr>\n",
       "    <tr>\n",
       "      <th>3976</th>\n",
       "      <td>집안에는   여 개의 표창장이 산처럼 쌓여 있다  표창장의 주인공은 창원에서  박영...</td>\n",
       "    </tr>\n",
       "    <tr>\n",
       "      <th>3977</th>\n",
       "      <td>장례식장에서 피자를 주문했는데 음식점 사장이 음식 뿐 아니라 조의금과 애도를 표하는...</td>\n",
       "    </tr>\n",
       "    <tr>\n",
       "      <th>3978</th>\n",
       "      <td>인터뷰 유튜버 공삼테이블 이공삼 하고싶은 일 해야겠단 생각에다양한 경험 후 먹방유튜...</td>\n",
       "    </tr>\n",
       "  </tbody>\n",
       "</table>\n",
       "<p>3979 rows × 1 columns</p>\n",
       "</div>"
      ],
      "text/plain": [
       "                                                Content\n",
       "0      아시아경제 문혜원 기자  더본코리아는 설 명절을 맞아 온 가족이 즐길 수 있는  ...\n",
       "1      앵커  지난해 외식물가 상승률이   년 만에 최대치를 기록하면서 손님은 물론이고 ...\n",
       "2      당신이 먹는 음식이 곧 당신이다       독일 철학자 루트비히 포이어바흐가 한 ...\n",
       "3     전북에 가면 옛 삼국시대부터 불렸던  그리운 임이 사는 곳 임실     이 있다  ...\n",
       "4     이경애 외식연구소 대표  김형수기자     년 가까이 앞치마를 벗을 새 없이 앞만 ...\n",
       "...                                                 ...\n",
       "3974    필리핀  여행업계 오스카상  월드 트래블 어워드   년 연속 선정   필리핀이 ...\n",
       "3975    앵커    외국여행 가면 처음에 접하고 생소해하는 식당 문화가 있죠   종업원에...\n",
       "3976  집안에는   여 개의 표창장이 산처럼 쌓여 있다  표창장의 주인공은 창원에서  박영...\n",
       "3977  장례식장에서 피자를 주문했는데 음식점 사장이 음식 뿐 아니라 조의금과 애도를 표하는...\n",
       "3978  인터뷰 유튜버 공삼테이블 이공삼 하고싶은 일 해야겠단 생각에다양한 경험 후 먹방유튜...\n",
       "\n",
       "[3979 rows x 1 columns]"
      ]
     },
     "execution_count": 258,
     "metadata": {},
     "output_type": "execute_result"
    }
   ],
   "source": [
    "df"
   ]
  },
  {
   "cell_type": "code",
   "execution_count": 259,
   "metadata": {},
   "outputs": [],
   "source": [
    "from konlpy.tag import Kkma\n",
    "from konlpy.utils import pprint\n",
    "from tqdm import tqdm\n",
    "kkma = Kkma()"
   ]
  },
  {
   "cell_type": "code",
   "execution_count": 260,
   "metadata": {},
   "outputs": [
    {
     "name": "stderr",
     "output_type": "stream",
     "text": [
      "100%|██████████| 3979/3979 [04:33<00:00, 14.55it/s]\n"
     ]
    }
   ],
   "source": [
    "nouns = [] \n",
    "for x in tqdm(content):\n",
    "    try:\n",
    "        nouns.append(kkma.nouns(x))\n",
    "    except:\n",
    "        nouns.append([\"None\"])"
   ]
  },
  {
   "cell_type": "code",
   "execution_count": 261,
   "metadata": {},
   "outputs": [],
   "source": [
    "# 명사 추출 결과값 열에 추가\n",
    "ko_df= df.copy()\n",
    "ko_df[\"ContentNoun\"] = nouns\n",
    "#json 파일로 저장\n",
    "ko_df.to_json(\"eat_out_pre.json\",orient=\"table\")"
   ]
  },
  {
   "cell_type": "code",
   "execution_count": 285,
   "metadata": {},
   "outputs": [],
   "source": [
    "corpus = pd.read_json(\"eat_out_pre.json\",orient=\"table\")"
   ]
  },
  {
   "cell_type": "code",
   "execution_count": 286,
   "metadata": {},
   "outputs": [],
   "source": [
    "def change(text):\n",
    "    text=','.join(text)\n",
    "    text_list=text.split(',')\n",
    "    result=[]\n",
    "    for c in text_list:\n",
    "        result.append(c)\n",
    "    result=','.join(result)\n",
    "    return result"
   ]
  },
  {
   "cell_type": "code",
   "execution_count": 288,
   "metadata": {},
   "outputs": [],
   "source": [
    "corpus['ContentNoun']=corpus['ContentNoun'].map(lambda x: change(x))"
   ]
  },
  {
   "cell_type": "code",
   "execution_count": 289,
   "metadata": {},
   "outputs": [],
   "source": [
    "def remove(text):\n",
    "    text_list=text.split(',')\n",
    "    result=[]\n",
    "    for n in text_list:\n",
    "        if len(n)>1:\n",
    "            result.append(n)\n",
    "    result=' '.join(result)\n",
    "    return result\n",
    "\n",
    "corpus['ContentNoun']=corpus['ContentNoun'].map(lambda x: remove(x))\n"
   ]
  },
  {
   "cell_type": "code",
   "execution_count": 296,
   "metadata": {},
   "outputs": [
    {
     "data": {
      "text/plain": [
       "728"
      ]
     },
     "execution_count": 296,
     "metadata": {},
     "output_type": "execute_result"
    }
   ],
   "source": [
    "#사이트 참조해서 직접 제거 + 신문사 제거\n",
    "stopword1 = pd.read_excel(\"./불용어.xlsx\",header=None, engine='openpyxl')\n",
    "stopword = list(set(stopword1[0])) # 0번째가 불용어, 중복 제거\n",
    "len(stopword) # 594개로 중복 제거됨"
   ]
  },
  {
   "cell_type": "code",
   "execution_count": 297,
   "metadata": {},
   "outputs": [],
   "source": [
    "noun=corpus['ContentNoun']"
   ]
  },
  {
   "cell_type": "code",
   "execution_count": 298,
   "metadata": {},
   "outputs": [],
   "source": [
    "import nltk\n",
    "\n",
    "for i, document in enumerate(noun):\n",
    "    clean_words = [] \n",
    "    for word in nltk.tokenize.word_tokenize(document):\n",
    "        if word not in np.array(stopword): #불용어 제거\n",
    "            clean_words.append(word)\n",
    "    noun[i] = ' '.join(clean_words)"
   ]
  },
  {
   "cell_type": "code",
   "execution_count": 299,
   "metadata": {},
   "outputs": [
    {
     "data": {
      "text/plain": [
       "0       문혜원 본코리아 코리아 명절 가족 본가 갈비 갈비찜 레스토랑 간편식 편식 상품 스타...\n",
       "1       지난해 외식물가 물가 상승률 최대치 기록 자영업자 외식비용 비용 재료비 음식값 상황...\n",
       "2       독일 철학자 루트 루트비히 불편 천박 먹을거리 자랑 자랑거리 거리 소셜미디어 미디어...\n",
       "3       전북 삼국 삼국시대 시대 임실 조상 농토 연명 요즘 생산 치즈 전국적 유명 유명세 ...\n",
       "4       경애 외식연구소 연구소 대표 김형수 김형수기자 가까이 앞치마 요리 요리연구가 연구가...\n",
       "                              ...                        \n",
       "3974    필리핀 여행업계 오스카상 월드 트래블 워드 연속 선정 최고 다이빙 여행지 관광부 명...\n",
       "3975    외국 외국여행 가면 처음 생소 종업원 요구 누리 반응 리포트 김성장 성장 내가 만족...\n",
       "3976    집안 개의 표창장 주인공 창원 박영수손짜장 영수 짜장 박영수 대표 거제 의령 함안 ...\n",
       "3977    피자 주문 사장 편지 감동 지난달 페이스 페이스북 안산 말해 말해드립 드립 계정 감...\n",
       "3978    인터뷰 유튜버 공삼 공삼테이블 테이블 생각 다양 경험 먹방유튜버 방유 정착 자취방 ...\n",
       "Name: ContentNoun, Length: 3979, dtype: object"
      ]
     },
     "execution_count": 299,
     "metadata": {},
     "output_type": "execute_result"
    }
   ],
   "source": [
    "noun"
   ]
  },
  {
   "cell_type": "code",
   "execution_count": 300,
   "metadata": {},
   "outputs": [],
   "source": [
    "# 전처리 결과값\n",
    "file=pd.DataFrame(noun)\n",
    "file.rename(columns={'ContentNoun':'keyword'}, inplace=True)\n",
    "file.to_csv(\"word_complete.csv\",encoding=\"utf-8-sig\", index=False)"
   ]
  },
  {
   "cell_type": "code",
   "execution_count": 301,
   "metadata": {},
   "outputs": [
    {
     "data": {
      "text/html": [
       "<div>\n",
       "<style scoped>\n",
       "    .dataframe tbody tr th:only-of-type {\n",
       "        vertical-align: middle;\n",
       "    }\n",
       "\n",
       "    .dataframe tbody tr th {\n",
       "        vertical-align: top;\n",
       "    }\n",
       "\n",
       "    .dataframe thead th {\n",
       "        text-align: right;\n",
       "    }\n",
       "</style>\n",
       "<table border=\"1\" class=\"dataframe\">\n",
       "  <thead>\n",
       "    <tr style=\"text-align: right;\">\n",
       "      <th></th>\n",
       "      <th>keyword</th>\n",
       "    </tr>\n",
       "  </thead>\n",
       "  <tbody>\n",
       "    <tr>\n",
       "      <th>0</th>\n",
       "      <td>문혜원 본코리아 코리아 명절 가족 본가 갈비 갈비찜 레스토랑 간편식 편식 상품 스타...</td>\n",
       "    </tr>\n",
       "    <tr>\n",
       "      <th>1</th>\n",
       "      <td>지난해 외식물가 물가 상승률 최대치 기록 자영업자 외식비용 비용 재료비 음식값 상황...</td>\n",
       "    </tr>\n",
       "    <tr>\n",
       "      <th>2</th>\n",
       "      <td>독일 철학자 루트 루트비히 불편 천박 먹을거리 자랑 자랑거리 거리 소셜미디어 미디어...</td>\n",
       "    </tr>\n",
       "    <tr>\n",
       "      <th>3</th>\n",
       "      <td>전북 삼국 삼국시대 시대 임실 조상 농토 연명 요즘 생산 치즈 전국적 유명 유명세 ...</td>\n",
       "    </tr>\n",
       "    <tr>\n",
       "      <th>4</th>\n",
       "      <td>경애 외식연구소 연구소 대표 김형수 김형수기자 가까이 앞치마 요리 요리연구가 연구가...</td>\n",
       "    </tr>\n",
       "  </tbody>\n",
       "</table>\n",
       "</div>"
      ],
      "text/plain": [
       "                                             keyword\n",
       "0  문혜원 본코리아 코리아 명절 가족 본가 갈비 갈비찜 레스토랑 간편식 편식 상품 스타...\n",
       "1  지난해 외식물가 물가 상승률 최대치 기록 자영업자 외식비용 비용 재료비 음식값 상황...\n",
       "2  독일 철학자 루트 루트비히 불편 천박 먹을거리 자랑 자랑거리 거리 소셜미디어 미디어...\n",
       "3  전북 삼국 삼국시대 시대 임실 조상 농토 연명 요즘 생산 치즈 전국적 유명 유명세 ...\n",
       "4  경애 외식연구소 연구소 대표 김형수 김형수기자 가까이 앞치마 요리 요리연구가 연구가..."
      ]
     },
     "execution_count": 301,
     "metadata": {},
     "output_type": "execute_result"
    }
   ],
   "source": [
    "file.head()"
   ]
  }
 ],
 "metadata": {
  "kernelspec": {
   "display_name": "main",
   "language": "python",
   "name": "python3"
  },
  "language_info": {
   "codemirror_mode": {
    "name": "ipython",
    "version": 3
   },
   "file_extension": ".py",
   "mimetype": "text/x-python",
   "name": "python",
   "nbconvert_exporter": "python",
   "pygments_lexer": "ipython3",
   "version": "3.9.12 (main, Apr  4 2022, 05:22:27) [MSC v.1916 64 bit (AMD64)]"
  },
  "orig_nbformat": 4,
  "vscode": {
   "interpreter": {
    "hash": "775152922533dd19b195630fbe0f77ee7ff74a0690faf099757b040563d51a06"
   }
  }
 },
 "nbformat": 4,
 "nbformat_minor": 2
}
